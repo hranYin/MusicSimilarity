{
 "cells": [
  {
   "cell_type": "markdown",
   "metadata": {},
   "source": [
    "# LSH - Chroma STFT"
   ]
  },
  {
   "cell_type": "code",
   "execution_count": 25,
   "metadata": {},
   "outputs": [],
   "source": [
    "import librosa, librosa.display\n",
    "import os\n",
    "import os.path\n",
    "import numpy as np\n",
    "import IPython.display as ipd\n",
    "import pandas as pd\n",
    "import matplotlib.pyplot as plt\n",
    "from tqdm import tqdm"
   ]
  },
  {
   "cell_type": "code",
   "execution_count": 20,
   "metadata": {},
   "outputs": [],
   "source": [
    "training_dir = '../conv_genre_wavs/pop/'\n",
    "training_files = [os.path.join(training_dir, f) for f in os.listdir(training_dir)]"
   ]
  },
  {
   "cell_type": "code",
   "execution_count": 21,
   "metadata": {},
   "outputs": [
    {
     "data": {
      "text/plain": [
       "99"
      ]
     },
     "execution_count": 21,
     "metadata": {},
     "output_type": "execute_result"
    }
   ],
   "source": [
    "len(training_files)"
   ]
  },
  {
   "cell_type": "code",
   "execution_count": 4,
   "metadata": {},
   "outputs": [],
   "source": [
    "def hash_func(vecs, projections):\n",
    "    bools = np.dot(vecs, projections.T) > 0\n",
    "    return [bool2int(bool_vec) for bool_vec in bools]"
   ]
  },
  {
   "cell_type": "code",
   "execution_count": 5,
   "metadata": {},
   "outputs": [],
   "source": [
    "def bool2int(x):\n",
    "    y = 0\n",
    "    for i,j in enumerate(x):\n",
    "        if j: y += 1<<i\n",
    "    return y"
   ]
  },
  {
   "cell_type": "code",
   "execution_count": 6,
   "metadata": {},
   "outputs": [
    {
     "data": {
      "text/plain": [
       "10"
      ]
     },
     "execution_count": 6,
     "metadata": {},
     "output_type": "execute_result"
    }
   ],
   "source": [
    "bool2int([False, True, False, True])"
   ]
  },
  {
   "cell_type": "code",
   "execution_count": 7,
   "metadata": {},
   "outputs": [],
   "source": [
    "class Table:\n",
    "    \n",
    "    def __init__(self, hash_size, dim):\n",
    "        self.table = dict()\n",
    "        self.hash_size = hash_size\n",
    "        self.projections = np.random.randn(self.hash_size, dim)\n",
    "\n",
    "    def add(self, vecs, label):\n",
    "        entry = {'label': label}\n",
    "        hashes = hash_func(vecs, self.projections)\n",
    "        for h in hashes:\n",
    "            if self.table.has_key(h):\n",
    "                self.table[h].append(entry)\n",
    "            else:\n",
    "                self.table[h] = [entry]\n",
    "\n",
    "    def query(self, vecs):\n",
    "        hashes = hash_func(vecs, self.projections)\n",
    "        results = list()\n",
    "        for h in hashes:\n",
    "            if self.table.has_key(h):\n",
    "                results.extend(self.table[h])\n",
    "        return results"
   ]
  },
  {
   "cell_type": "code",
   "execution_count": 8,
   "metadata": {},
   "outputs": [],
   "source": [
    "class LSH:\n",
    "    \n",
    "    def __init__(self, dim):\n",
    "        self.num_tables = 4\n",
    "        self.hash_size = 8\n",
    "        self.tables = list()\n",
    "        for i in range(self.num_tables):\n",
    "            self.tables.append(Table(self.hash_size, dim))\n",
    "    \n",
    "    def add(self, vecs, label):\n",
    "        for table in self.tables:\n",
    "            table.add(vecs, label)\n",
    "    \n",
    "    def query(self, vecs):\n",
    "        results = list()\n",
    "        for table in self.tables:\n",
    "            results.extend(table.query(vecs))\n",
    "        return results\n",
    "\n",
    "    def describe(self):\n",
    "        for table in self.tables:\n",
    "            print(table.table)"
   ]
  },
  {
   "cell_type": "code",
   "execution_count": 29,
   "metadata": {},
   "outputs": [],
   "source": [
    "class MusicSearch:\n",
    "    \n",
    "    def __init__(self, training_files):\n",
    "        self.frame_size = 4096\n",
    "        self.hop_size = 4000\n",
    "        self.fv_size = 12\n",
    "        self.n_mfcc = 12\n",
    "        self.lsh = LSH(self.fv_size)\n",
    "        self.training_files = training_files\n",
    "        self.num_features_in_file = dict()\n",
    "        for f in self.training_files:\n",
    "            self.num_features_in_file[f] = 0\n",
    "                \n",
    "    def train(self):\n",
    "        for filepath in tqdm(self.training_files):\n",
    "            if filepath.endswith('.wav'):\n",
    "                print(filepath)\n",
    "                y,sr = librosa.load(filepath)\n",
    "                features = librosa.feature.chroma_stft(y,sr, n_fft=self.frame_size, hop_length=self.hop_size).T\n",
    "                self.lsh.add(features, filepath)\n",
    "                self.num_features_in_file[filepath] += len(features)\n",
    "                \n",
    "    def query(self, filepath):\n",
    "        y, sr = librosa.load(filepath)\n",
    "        features = librosa.feature.chroma_stft(y, sr, n_fft=self.frame_size, hop_length=self.hop_size).T\n",
    "        results = self.lsh.query(features)\n",
    "        print('num results', len(results))\n",
    "\n",
    "        counts = dict()\n",
    "        for r in results:\n",
    "            if counts.has_key(r['label']):\n",
    "                counts[r['label']] += 1\n",
    "            else:\n",
    "                counts[r['label']] = 1\n",
    "        for k in counts:\n",
    "            counts[k] = float(counts[k])/self.num_features_in_file[k]\n",
    "        return counts"
   ]
  },
  {
   "cell_type": "code",
   "execution_count": 30,
   "metadata": {},
   "outputs": [
    {
     "name": "stderr",
     "output_type": "stream",
     "text": [
      "  2%|▏         | 2/99 [00:00<00:05, 18.04it/s]"
     ]
    },
    {
     "name": "stdout",
     "output_type": "stream",
     "text": [
      "../conv_genre_wavs/pop/pop.00027.wav\n",
      "../conv_genre_wavs/pop/pop.00033.wav\n",
      "../conv_genre_wavs/pop/pop.00032.wav\n",
      "../conv_genre_wavs/pop/pop.00026.wav\n"
     ]
    },
    {
     "name": "stderr",
     "output_type": "stream",
     "text": [
      "  6%|▌         | 6/99 [00:00<00:05, 18.53it/s]"
     ]
    },
    {
     "name": "stdout",
     "output_type": "stream",
     "text": [
      "../conv_genre_wavs/pop/pop.00030.wav\n",
      "../conv_genre_wavs/pop/pop.00024.wav\n",
      "../conv_genre_wavs/pop/pop.00018.wav\n",
      "../conv_genre_wavs/pop/pop.00019.wav\n"
     ]
    },
    {
     "name": "stderr",
     "output_type": "stream",
     "text": [
      " 10%|█         | 10/99 [00:00<00:04, 18.20it/s]"
     ]
    },
    {
     "name": "stdout",
     "output_type": "stream",
     "text": [
      "../conv_genre_wavs/pop/pop.00025.wav\n",
      "../conv_genre_wavs/pop/pop.00031.wav\n",
      "../conv_genre_wavs/pop/pop.00009.wav\n",
      "../conv_genre_wavs/pop/pop.00035.wav\n"
     ]
    },
    {
     "name": "stderr",
     "output_type": "stream",
     "text": [
      " 15%|█▌        | 15/99 [00:00<00:04, 20.23it/s]"
     ]
    },
    {
     "name": "stdout",
     "output_type": "stream",
     "text": [
      "../conv_genre_wavs/pop/pop.00021.wav\n",
      "../conv_genre_wavs/pop/pop.00020.wav\n",
      "../conv_genre_wavs/pop/pop.00034.wav\n",
      "../conv_genre_wavs/pop/pop.00008.wav\n"
     ]
    },
    {
     "name": "stderr",
     "output_type": "stream",
     "text": [
      " 19%|█▉        | 19/99 [00:00<00:04, 18.73it/s]"
     ]
    },
    {
     "name": "stdout",
     "output_type": "stream",
     "text": [
      "../conv_genre_wavs/pop/pop.00022.wav\n",
      "../conv_genre_wavs/pop/pop.00036.wav\n",
      "../conv_genre_wavs/pop/pop.00037.wav\n",
      "../conv_genre_wavs/pop/pop.00023.wav\n"
     ]
    },
    {
     "name": "stderr",
     "output_type": "stream",
     "text": [
      " 23%|██▎       | 23/99 [00:01<00:04, 18.13it/s]"
     ]
    },
    {
     "name": "stdout",
     "output_type": "stream",
     "text": [
      "../conv_genre_wavs/pop/pop.00044.wav\n",
      "../conv_genre_wavs/pop/pop.00050.wav\n",
      "../conv_genre_wavs/pop/pop.00078.wav\n",
      "../conv_genre_wavs/pop/pop.00087.wav\n"
     ]
    },
    {
     "name": "stderr",
     "output_type": "stream",
     "text": [
      " 27%|██▋       | 27/99 [00:01<00:03, 18.29it/s]"
     ]
    },
    {
     "name": "stdout",
     "output_type": "stream",
     "text": [
      "../conv_genre_wavs/pop/pop.00093.wav\n",
      "../conv_genre_wavs/pop/pop.00092.wav\n",
      "../conv_genre_wavs/pop/pop.00086.wav\n",
      "../conv_genre_wavs/pop/pop.00079.wav\n"
     ]
    },
    {
     "name": "stderr",
     "output_type": "stream",
     "text": [
      " 31%|███▏      | 31/99 [00:01<00:03, 18.68it/s]"
     ]
    },
    {
     "name": "stdout",
     "output_type": "stream",
     "text": [
      "../conv_genre_wavs/pop/pop.00051.wav\n",
      "../conv_genre_wavs/pop/pop.00045.wav\n",
      "../conv_genre_wavs/pop/pop.00053.wav\n",
      "../conv_genre_wavs/pop/pop.00047.wav\n"
     ]
    },
    {
     "name": "stderr",
     "output_type": "stream",
     "text": [
      " 35%|███▌      | 35/99 [00:01<00:03, 18.58it/s]"
     ]
    },
    {
     "name": "stdout",
     "output_type": "stream",
     "text": [
      "../conv_genre_wavs/pop/pop.00090.wav\n",
      "../conv_genre_wavs/pop/pop.00084.wav\n",
      "../conv_genre_wavs/pop/pop.00085.wav\n",
      "../conv_genre_wavs/pop/pop.00091.wav\n"
     ]
    },
    {
     "name": "stderr",
     "output_type": "stream",
     "text": [
      " 39%|███▉      | 39/99 [00:02<00:03, 18.96it/s]"
     ]
    },
    {
     "name": "stdout",
     "output_type": "stream",
     "text": [
      "../conv_genre_wavs/pop/pop.00046.wav\n",
      "../conv_genre_wavs/pop/pop.00052.wav\n",
      "../conv_genre_wavs/pop/pop.00056.wav\n",
      "../conv_genre_wavs/pop/pop.00042.wav\n"
     ]
    },
    {
     "name": "stderr",
     "output_type": "stream",
     "text": [
      " 43%|████▎     | 43/99 [00:02<00:02, 18.97it/s]"
     ]
    },
    {
     "name": "stdout",
     "output_type": "stream",
     "text": [
      "../conv_genre_wavs/pop/pop.00095.wav\n",
      "../conv_genre_wavs/pop/pop.00081.wav\n",
      "../conv_genre_wavs/pop/pop.00080.wav\n",
      "../conv_genre_wavs/pop/pop.00094.wav\n"
     ]
    },
    {
     "name": "stderr",
     "output_type": "stream",
     "text": [
      " 47%|████▋     | 47/99 [00:02<00:02, 18.62it/s]"
     ]
    },
    {
     "name": "stdout",
     "output_type": "stream",
     "text": [
      "../conv_genre_wavs/pop/pop.00043.wav\n",
      "../conv_genre_wavs/pop/pop.00057.wav\n",
      "../conv_genre_wavs/pop/pop.00069.wav\n",
      "../conv_genre_wavs/pop/pop.00041.wav\n"
     ]
    },
    {
     "name": "stderr",
     "output_type": "stream",
     "text": [
      " 52%|█████▏    | 51/99 [00:02<00:02, 18.90it/s]"
     ]
    },
    {
     "name": "stdout",
     "output_type": "stream",
     "text": [
      "../conv_genre_wavs/pop/pop.00055.wav\n",
      "../conv_genre_wavs/pop/pop.00082.wav\n",
      "../conv_genre_wavs/pop/pop.00096.wav\n",
      "../conv_genre_wavs/pop/pop.00097.wav\n"
     ]
    },
    {
     "name": "stderr",
     "output_type": "stream",
     "text": [
      " 56%|█████▌    | 55/99 [00:02<00:02, 18.67it/s]"
     ]
    },
    {
     "name": "stdout",
     "output_type": "stream",
     "text": [
      "../conv_genre_wavs/pop/pop.00083.wav\n",
      "../conv_genre_wavs/pop/pop.00040.wav\n",
      "../conv_genre_wavs/pop/pop.00068.wav\n",
      "../conv_genre_wavs/pop/pop.00065.wav\n"
     ]
    },
    {
     "name": "stderr",
     "output_type": "stream",
     "text": [
      " 60%|█████▉    | 59/99 [00:03<00:02, 18.86it/s]"
     ]
    },
    {
     "name": "stdout",
     "output_type": "stream",
     "text": [
      "../conv_genre_wavs/pop/pop.00059.wav\n",
      "../conv_genre_wavs/pop/pop.00058.wav\n",
      "../conv_genre_wavs/pop/pop.00070.wav\n",
      "../conv_genre_wavs/pop/pop.00064.wav\n"
     ]
    },
    {
     "name": "stderr",
     "output_type": "stream",
     "text": [
      " 64%|██████▎   | 63/99 [00:03<00:01, 18.43it/s]"
     ]
    },
    {
     "name": "stdout",
     "output_type": "stream",
     "text": [
      "../conv_genre_wavs/pop/pop.00072.wav\n",
      "../conv_genre_wavs/pop/pop.00066.wav\n",
      "../conv_genre_wavs/pop/pop.00099.wav\n",
      "../conv_genre_wavs/pop/pop.00098.wav\n"
     ]
    },
    {
     "name": "stderr",
     "output_type": "stream",
     "text": [
      " 68%|██████▊   | 67/99 [00:03<00:01, 18.77it/s]"
     ]
    },
    {
     "name": "stdout",
     "output_type": "stream",
     "text": [
      "../conv_genre_wavs/pop/pop.00067.wav\n",
      "../conv_genre_wavs/pop/pop.00073.wav\n",
      "../conv_genre_wavs/pop/pop.00077.wav\n",
      "../conv_genre_wavs/pop/pop.00063.wav\n"
     ]
    },
    {
     "name": "stderr",
     "output_type": "stream",
     "text": [
      " 72%|███████▏  | 71/99 [00:03<00:01, 18.93it/s]"
     ]
    },
    {
     "name": "stdout",
     "output_type": "stream",
     "text": [
      "../conv_genre_wavs/pop/pop.00088.wav\n",
      "../conv_genre_wavs/pop/pop.00089.wav\n",
      "../conv_genre_wavs/pop/pop.00062.wav\n",
      "../conv_genre_wavs/pop/pop.00076.wav\n"
     ]
    },
    {
     "name": "stderr",
     "output_type": "stream",
     "text": [
      " 76%|███████▌  | 75/99 [00:03<00:01, 19.20it/s]"
     ]
    },
    {
     "name": "stdout",
     "output_type": "stream",
     "text": [
      "../conv_genre_wavs/pop/pop.00048.wav\n",
      "../conv_genre_wavs/pop/pop.00060.wav\n",
      "../conv_genre_wavs/pop/pop.00074.wav\n",
      "../conv_genre_wavs/pop/pop.00075.wav\n"
     ]
    },
    {
     "name": "stderr",
     "output_type": "stream",
     "text": [
      " 80%|███████▉  | 79/99 [00:04<00:01, 19.24it/s]"
     ]
    },
    {
     "name": "stdout",
     "output_type": "stream",
     "text": [
      "../conv_genre_wavs/pop/pop.00061.wav\n",
      "../conv_genre_wavs/pop/pop.00049.wav\n",
      "../conv_genre_wavs/pop/pop.00006.wav\n",
      "../conv_genre_wavs/pop/pop.00012.wav\n"
     ]
    },
    {
     "name": "stderr",
     "output_type": "stream",
     "text": [
      " 84%|████████▍ | 83/99 [00:04<00:00, 19.22it/s]"
     ]
    },
    {
     "name": "stdout",
     "output_type": "stream",
     "text": [
      "../conv_genre_wavs/pop/pop.00013.wav\n",
      "../conv_genre_wavs/pop/pop.00007.wav\n",
      "../conv_genre_wavs/pop/pop.00011.wav\n",
      "../conv_genre_wavs/pop/pop.00005.wav\n"
     ]
    },
    {
     "name": "stderr",
     "output_type": "stream",
     "text": [
      " 88%|████████▊ | 87/99 [00:04<00:00, 19.04it/s]"
     ]
    },
    {
     "name": "stdout",
     "output_type": "stream",
     "text": [
      "../conv_genre_wavs/pop/pop.00039.wav\n",
      "../conv_genre_wavs/pop/pop.00038.wav\n",
      "../conv_genre_wavs/pop/pop.00004.wav\n",
      "../conv_genre_wavs/pop/pop.00010.wav\n"
     ]
    },
    {
     "name": "stderr",
     "output_type": "stream",
     "text": [
      " 92%|█████████▏| 91/99 [00:04<00:00, 19.06it/s]"
     ]
    },
    {
     "name": "stdout",
     "output_type": "stream",
     "text": [
      "../conv_genre_wavs/pop/pop.00028.wav\n",
      "../conv_genre_wavs/pop/pop.00014.wav\n",
      "../conv_genre_wavs/pop/pop.00000.wav\n",
      "../conv_genre_wavs/pop/pop.00001.wav\n"
     ]
    },
    {
     "name": "stderr",
     "output_type": "stream",
     "text": [
      " 96%|█████████▌| 95/99 [00:05<00:00, 19.13it/s]"
     ]
    },
    {
     "name": "stdout",
     "output_type": "stream",
     "text": [
      "../conv_genre_wavs/pop/pop.00015.wav\n",
      "../conv_genre_wavs/pop/pop.00029.wav\n",
      "../conv_genre_wavs/pop/pop.00003.wav\n",
      "../conv_genre_wavs/pop/pop.00017.wav\n"
     ]
    },
    {
     "name": "stderr",
     "output_type": "stream",
     "text": [
      "100%|██████████| 99/99 [00:05<00:00, 18.71it/s]"
     ]
    },
    {
     "name": "stdout",
     "output_type": "stream",
     "text": [
      "../conv_genre_wavs/pop/pop.00016.wav\n",
      "../conv_genre_wavs/pop/pop.00002.wav\n"
     ]
    },
    {
     "name": "stderr",
     "output_type": "stream",
     "text": [
      "\n"
     ]
    }
   ],
   "source": [
    "ms = MusicSearch(training_files)\n",
    "ms.train()"
   ]
  },
  {
   "cell_type": "code",
   "execution_count": 31,
   "metadata": {},
   "outputs": [
    {
     "name": "stdout",
     "output_type": "stream",
     "text": [
      "('num results', 542394)\n"
     ]
    }
   ],
   "source": [
    "test_file = '../conv_genre_wavs/pop/Pop.00079.wav'\n",
    "results = ms.query(test_file)"
   ]
  },
  {
   "cell_type": "code",
   "execution_count": 32,
   "metadata": {},
   "outputs": [
    {
     "data": {
      "text/plain": [
       "98"
      ]
     },
     "execution_count": 32,
     "metadata": {},
     "output_type": "execute_result"
    }
   ],
   "source": [
    "len(results)"
   ]
  },
  {
   "cell_type": "code",
   "execution_count": 33,
   "metadata": {},
   "outputs": [],
   "source": [
    "f = []\n",
    "\n",
    "hc = []\n",
    "for r in sorted(results, key=results.get, reverse=True):\n",
    "#     print(r,results[r])\n",
    "    f.append(results[r])\n",
    "    hc.append([r,results[r]])"
   ]
  },
  {
   "cell_type": "code",
   "execution_count": 34,
   "metadata": {},
   "outputs": [
    {
     "data": {
      "text/plain": [
       "float"
      ]
     },
     "execution_count": 34,
     "metadata": {},
     "output_type": "execute_result"
    }
   ],
   "source": [
    "type(hc[0][1])"
   ]
  },
  {
   "cell_type": "code",
   "execution_count": 38,
   "metadata": {},
   "outputs": [
    {
     "name": "stdout",
     "output_type": "stream",
     "text": [
      "min\n",
      "(0.006024096385537803, '../conv_genre_wavs/pop/pop.00076.wav', array([143.5546875]), '../conv_genre_wavs/pop/pop.00023.wav', array([103.359375]))\n",
      "max\n",
      "(5.728915662650607, '../conv_genre_wavs/pop/pop.00079.wav', array([112.34714674]), '../conv_genre_wavs/pop/pop.00058.wav', array([99.38401442]))\n"
     ]
    },
    {
     "data": {
      "image/png": "[encoded data removed]",
      "text/plain": [
       "<Figure size 432x288 with 2 Axes>"
      ]
     },
     "metadata": {
      "needs_background": "light"
     },
     "output_type": "display_data"
    }
   ],
   "source": [
    "ad = 0\n",
    "bd = 0\n",
    "m = 100\n",
    "a = ''\n",
    "b = ''\n",
    "\n",
    "ma = 0\n",
    "a_ = ''\n",
    "b_ = ''\n",
    "for i in range(len(hc)-1):\n",
    "    ad = hc[i][1]\n",
    "    bd = hc[i+1][1]\n",
    "    d = ad - bd\n",
    "    if ma < d:\n",
    "        ma = d\n",
    "        a_ = hc[i][0]\n",
    "        b_ = hc[i+1][0]\n",
    "    if m > d:\n",
    "        m = d\n",
    "        a = hc[i][0]\n",
    "        b = hc[i+1][0]\n",
    "        \n",
    "\n",
    "        \n",
    "\n",
    "    \n",
    "song1,t = librosa.load(a)\n",
    "song2,t = librosa.load(b)\n",
    "a_tmp = librosa.beat.tempo(song1)\n",
    "b_tmp = librosa.beat.tempo(song2)\n",
    "\n",
    "ma_song1,t = librosa.load(a_)\n",
    "ma_song2,t = librosa.load(b_)\n",
    "ma_a_tmp = librosa.beat.tempo(ma_song1)\n",
    "ma_b_tmp = librosa.beat.tempo(ma_song2)\n",
    "print('min')\n",
    "print(m,a,a_tmp,b,b_tmp)\n",
    "plt.subplot(2, 1, 1)\n",
    "librosa.display.waveplot(song1)\n",
    "plt.subplot(2, 1, 2)\n",
    "librosa.display.waveplot(song2)\n",
    "print('max')\n",
    "print(ma,a_,ma_a_tmp,b_,ma_b_tmp)"
   ]
  },
  {
   "cell_type": "code",
   "execution_count": 19,
   "metadata": {},
   "outputs": [
    {
     "data": {
      "text/plain": [
       "<matplotlib.collections.PathCollection at 0x1c1d830150>"
      ]
     },
     "execution_count": 19,
     "metadata": {},
     "output_type": "execute_result"
    },
    {
     "data": {
      "image/png": "[encoded data removed]",
      "text/plain": [
       "<Figure size 720x720 with 1 Axes>"
      ]
     },
     "metadata": {
      "needs_background": "light"
     },
     "output_type": "display_data"
    }
   ],
   "source": [
    "import matplotlib.pyplot as plt\n",
    "plt.figure(figsize=(10,10))\n",
    "plt.xlabel('Pop Songs')\n",
    "plt.ylabel('Hashcode')\n",
    "plt.scatter(range(len(f)),f)"
   ]
  },
  {
   "cell_type": "code",
   "execution_count": null,
   "metadata": {},
   "outputs": [],
   "source": [
    "matching_songs = []\n",
    "for r in sorted(results, key=results.get, reverse=True):\n",
    "#     print(r,results[r])\n",
    "    matching_songs.append([r,results[r]])"
   ]
  },
  {
   "cell_type": "code",
   "execution_count": null,
   "metadata": {},
   "outputs": [],
   "source": [
    "sim_score = 0\n",
    "playlist = []\n",
    "m = 1200\n",
    "a = []\n",
    "b = []\n",
    "\n",
    "\n",
    "sim_scores = []\n",
    "for i in range(len(matching_songs)-1):\n",
    "    if i < len(matching_songs):\n",
    "        sim_score = matching_songs[i+1][1] - matching_songs[i][1]\n",
    "        a.append(matching_songs[i+1][0])\n",
    "        b.append(matching_songs[i][0])\n",
    "        sim_scores.append(sim_score)\n",
    "#         playlist.append([matching_songs[i], sim_score])\n",
    "        \n",
    "data = {\"A\" : a, \"B\": b, \"Sim Scores\": sim_scores}"
   ]
  },
  {
   "cell_type": "code",
   "execution_count": null,
   "metadata": {},
   "outputs": [],
   "source": [
    "df = pd.DataFrame(data=data)\n",
    "df"
   ]
  },
  {
   "cell_type": "code",
   "execution_count": null,
   "metadata": {},
   "outputs": [],
   "source": [
    "# df.to_csv('rock.00010.wav_LSH_rock_Chroma_STFT.csv')"
   ]
  },
  {
   "cell_type": "code",
   "execution_count": null,
   "metadata": {},
   "outputs": [],
   "source": [
    "similar_songs[0]"
   ]
  },
  {
   "cell_type": "code",
   "execution_count": null,
   "metadata": {},
   "outputs": [],
   "source": [
    "playlist"
   ]
  },
  {
   "cell_type": "code",
   "execution_count": null,
   "metadata": {},
   "outputs": [],
   "source": [
    "df = pd.DataFrame()"
   ]
  },
  {
   "cell_type": "code",
   "execution_count": null,
   "metadata": {},
   "outputs": [],
   "source": [
    "ipd.Audio(a,rate=22050)"
   ]
  },
  {
   "cell_type": "code",
   "execution_count": null,
   "metadata": {},
   "outputs": [],
   "source": [
    "ipd.Audio(b,rate=22050)"
   ]
  },
  {
   "cell_type": "code",
   "execution_count": null,
   "metadata": {},
   "outputs": [],
   "source": [
    "playlist"
   ]
  },
  {
   "cell_type": "code",
   "execution_count": null,
   "metadata": {},
   "outputs": [],
   "source": [
    "import matplotlib.pyplot as plt\n",
    "\n",
    "\n",
    "plt.scatter(matching_songs[0],matching_songs[1])"
   ]
  },
  {
   "cell_type": "code",
   "execution_count": null,
   "metadata": {},
   "outputs": [],
   "source": [
    "ipd.Audio(matching_songs[0],rate=22050)"
   ]
  },
  {
   "cell_type": "code",
   "execution_count": null,
   "metadata": {},
   "outputs": [],
   "source": [
    "ipd.Audio(matching_songs[1],rate=22050)"
   ]
  },
  {
   "cell_type": "code",
   "execution_count": null,
   "metadata": {},
   "outputs": [],
   "source": [
    "ipd.Audio(results[r][0],rate=22050)"
   ]
  },
  {
   "cell_type": "code",
   "execution_count": null,
   "metadata": {},
   "outputs": [],
   "source": [
    "ipd.Audio(results[r][1],rate=22050)"
   ]
  },
  {
   "cell_type": "code",
   "execution_count": null,
   "metadata": {},
   "outputs": [],
   "source": []
  },
  {
   "cell_type": "code",
   "execution_count": null,
   "metadata": {},
   "outputs": [],
   "source": []
  },
  {
   "cell_type": "code",
   "execution_count": null,
   "metadata": {},
   "outputs": [],
   "source": []
  }
 ],
 "metadata": {
  "kernelspec": {
   "display_name": "Python 2",
   "language": "python",
   "name": "python2"
  },
  "language_info": {
   "codemirror_mode": {
    "name": "ipython",
    "version": 2
   },
   "file_extension": ".py",
   "mimetype": "text/x-python",
   "name": "python",
   "nbconvert_exporter": "python",
   "pygments_lexer": "ipython2",
   "version": "2.7.16"
  }
 },
 "nbformat": 4,
 "nbformat_minor": 2
}
